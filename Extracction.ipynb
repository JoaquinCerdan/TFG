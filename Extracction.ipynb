{
  "nbformat": 4,
  "nbformat_minor": 0,
  "metadata": {
    "colab": {
      "provenance": [],
      "authorship_tag": "ABX9TyN8wm0+LV2jx6H9iwGM+f+c",
      "include_colab_link": true
    },
    "kernelspec": {
      "name": "python3",
      "display_name": "Python 3"
    },
    "language_info": {
      "name": "python"
    }
  },
  "cells": [
    {
      "cell_type": "markdown",
      "metadata": {
        "id": "view-in-github",
        "colab_type": "text"
      },
      "source": [
        "<a href=\"https://colab.research.google.com/github/JoaquinCerdan/TFG/blob/development/Extracction.ipynb\" target=\"_parent\"><img src=\"https://colab.research.google.com/assets/colab-badge.svg\" alt=\"Open In Colab\"/></a>"
      ]
    },
    {
      "cell_type": "code",
      "execution_count": null,
      "metadata": {
        "id": "00iFvjlfUfT4"
      },
      "outputs": [],
      "source": [
        "import pandas as pd\n",
        "from tika import parser\n"
      ]
    },
    {
      "cell_type": "code",
      "source": [
        "# opening pdf file\n",
        "parsed_pdf = parser.from_file(\"/content/sample_data/contratos-formalizados-2017.pdf\")\n",
        "\n",
        "# saving content of pdf\n",
        "# you can also bring text only, by parsed_pdf['text']\n",
        "# parsed_pdf['content'] returns string\n",
        "data = parsed_pdf['content']\n",
        "\n",
        "with open('formalizados_2017.txt', 'w') as f:\n",
        "    f.write(data)\n",
        "\n",
        "# writing to file\n",
        "file1 = open('/content/formalizados_2017.txt', 'r')\n",
        "Lines = file1.readlines()"
      ],
      "metadata": {
        "id": "l8XH3n3rUyLC"
      },
      "execution_count": null,
      "outputs": []
    },
    {
      "cell_type": "code",
      "source": [
        "myList = []\n",
        "pages = -1\n",
        "\n",
        "# Crea listas de cada página\n",
        "def extractPages(myList, pages):\n",
        "  for line in Lines:\n",
        "    if line.find(\"Página\") != -1:\n",
        "      pages +=1\n",
        "      if pages !=0:\n",
        "        writeTxt(myList)\n",
        "        extractDataFormalizados(myList, pages)\n",
        "        myList = []\n",
        "    myList.append(line)\n",
        "  extractDataFormalizados(myList, pages+1)"
      ],
      "metadata": {
        "id": "k-zHjcNgUyH5"
      },
      "execution_count": null,
      "outputs": []
    },
    {
      "cell_type": "code",
      "source": [
        "myList1 = []\n",
        "pages1 = -1\n",
        "\n",
        "# Extraemos la primera página para poder controlar el formato\n",
        "def extractPage(myList1, pages1):\n",
        "  for line in Lines:\n",
        "    if line.find(\"Página\") != -1:\n",
        "      pages1 +=1\n",
        "      if pages1 !=0:\n",
        "        writeTxt(myList1)\n",
        "        break;\n",
        "    myList1.append(line)"
      ],
      "metadata": {
        "id": "q5L9CTVyGsXr"
      },
      "execution_count": null,
      "outputs": []
    },
    {
      "cell_type": "code",
      "source": [
        "# Crea un documento txt de la primera página\n",
        "\n",
        "def writeTxt(data_List):\n",
        "  data_Str = ' '.join(data_List)\n",
        "  with open('formalizados_1_2017.txt', 'w') as f:\n",
        "    f.write(data_Str)"
      ],
      "metadata": {
        "id": "uAiQ4h1HEY5k"
      },
      "execution_count": null,
      "outputs": []
    },
    {
      "cell_type": "code",
      "source": [
        "# Extrae los datos de una página de los contratos formalizados guardada en una lista de Strings\n",
        "\n",
        "\"\"\"\n",
        "Num. Expediente\n",
        "Objeto Contrato\n",
        "Descripción Lotes Contrato\n",
        "Tipo Tramitación\n",
        "Procedimiento de Contratación\n",
        "Presupuesto de Licitación (IVA incluido)\n",
        "\"Importe Adjudicación(IVA incluido)\"\n",
        "Fecha Formalización Contrato\n",
        "Plazo Ejecución\n",
        "NIF/CIF Adjudicatario/Contratista\n",
        "Razón Social Adjudicatario/Contratista\n",
        "\"\"\"\n",
        "\n",
        "def extractDataFormalizados(myList, pages):\n",
        "  print(\"Aqui se extraerían los datos de la página \" + str(pages))\n",
        "  cont = 0\n",
        "  for line in myList:\n",
        "      #print(\"Line{}: {}\".format(cont, line.strip()))\n",
        "      cont += 1"
      ],
      "metadata": {
        "id": "AnOZihOEUyFA"
      },
      "execution_count": null,
      "outputs": []
    },
    {
      "cell_type": "code",
      "source": [
        "# Extrae los datos de una página de los contratos modificados guardada en una lista de Strings\n",
        "\n",
        "\"\"\"\n",
        "Num. Expediente\n",
        "Objeto del Contrato\n",
        "Tipo de Contrato\n",
        "Fecha Aprobación\n",
        "Fecha Inicio\n",
        "Importe\n",
        "Causa/Justificación\n",
        "\"\"\"\n",
        "\n",
        "def extractDataModificados(myList, pages):\n",
        "  print(\"Aqui se extraerían los datos de la página \" + str(pages))\n",
        "  cont = 0\n",
        "  for line in myList:\n",
        "      print(\"Line{}: {}\".format(cont, line.strip()))\n",
        "      cont += 1"
      ],
      "metadata": {
        "id": "7Bds66jKUx_7"
      },
      "execution_count": null,
      "outputs": []
    },
    {
      "cell_type": "code",
      "source": [
        "# Extrae los datos de una página de los contratos prorrogados guardada en una lista de Strings\n",
        "\n",
        "\"\"\"\n",
        "Num. Expediente\n",
        "Objeto del Contrato\n",
        "Tipo de Contrato\n",
        "Fecha Aprobación\n",
        "Fecha Fin Prórroga\n",
        "Importe\n",
        "Contratista\n",
        "\"\"\"\n",
        "\n",
        "def extractDataProrrogados(myList, pages):\n",
        "  print(\"Aqui se extraerían los datos de la página \" + str(pages))\n",
        "  cont = 0\n",
        "  for line in myList:\n",
        "      print(\"Line{}: {}\".format(cont, line.strip()))\n",
        "      cont += 1"
      ],
      "metadata": {
        "id": "SjpEG7QXUx9N"
      },
      "execution_count": null,
      "outputs": []
    },
    {
      "cell_type": "code",
      "source": [
        "# Extrae los datos de una página de los contratos renunciados guardada en una lista de Strings\n",
        "\n",
        "\"\"\"\n",
        "Num. Expediente\n",
        "Objeto Contrato\n",
        "Descripción Lotes Contrato\n",
        "Tipo Contrato\n",
        "Tipo Tramitación\n",
        "Procedimiento de Contratación\n",
        "Presupuesto de Licitación (IVA incluido)\n",
        "Plazo Ejecución\n",
        "Fecha Desistimiento\n",
        "Fecha Renuncia\n",
        "Fecha Declaración Desierto\n",
        "\"\"\"\n",
        "\n",
        "def extractDataRenunciados(myList, pages):\n",
        "  print(\"Aqui se extraerían los datos de la página \" + str(pages))\n",
        "  cont = 0\n",
        "  for line in myList:\n",
        "      print(\"Line{}: {}\".format(cont, line.strip()))\n",
        "      cont += 1"
      ],
      "metadata": {
        "id": "p3T2rLRvUx50"
      },
      "execution_count": null,
      "outputs": []
    },
    {
      "cell_type": "markdown",
      "source": [
        "Ya podemos ejecutar las siguientes celdas:"
      ],
      "metadata": {
        "id": "_l_UjTX_N_ub"
      }
    },
    {
      "cell_type": "code",
      "source": [
        "# Extraemos la primera página para poder entender el formato\n",
        "extractPage(myList1, pages1)"
      ],
      "metadata": {
        "id": "Mu_DC7gMUxnX"
      },
      "execution_count": null,
      "outputs": []
    },
    {
      "cell_type": "code",
      "source": [
        "# Ejecutar todo\n",
        "extractPages(myList, pages)"
      ],
      "metadata": {
        "id": "N5SuiUFFUxX6"
      },
      "execution_count": null,
      "outputs": []
    }
  ]
}