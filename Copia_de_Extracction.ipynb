{
  "nbformat": 4,
  "nbformat_minor": 0,
  "metadata": {
    "colab": {
      "provenance": [],
      "authorship_tag": "ABX9TyN133KgnP7/urH186eU+de7",
      "include_colab_link": true
    },
    "kernelspec": {
      "name": "python3",
      "display_name": "Python 3"
    },
    "language_info": {
      "name": "python"
    }
  },
  "cells": [
    {
      "cell_type": "markdown",
      "metadata": {
        "id": "view-in-github",
        "colab_type": "text"
      },
      "source": [
        "<a href=\"https://colab.research.google.com/github/JoaquinCerdan/TFG/blob/development/Copia_de_Extracction.ipynb\" target=\"_parent\"><img src=\"https://colab.research.google.com/assets/colab-badge.svg\" alt=\"Open In Colab\"/></a>"
      ]
    },
    {
      "cell_type": "code",
      "execution_count": null,
      "metadata": {
        "id": "00iFvjlfUfT4"
      },
      "outputs": [],
      "source": [
        "import pandas as pd\n",
        "!pip install tika\n",
        "from tika import parser\n"
      ]
    },
    {
      "cell_type": "code",
      "source": [
        "document = \"/content/contratos-formalizados-2015\";\n",
        "\n",
        "\n",
        "\n",
        "# opening pdf file\n",
        "parsed_pdf = parser.from_file(document + \".pdf\")\n",
        "\n",
        "# saving content of pdf\n",
        "# you can also bring text only, by parsed_pdf['text']\n",
        "# parsed_pdf['content'] returns string\n",
        "data = parsed_pdf['content']\n",
        "\n",
        "with open(document + \".txt\", 'w') as f:\n",
        "    f.write(data)\n",
        "\n",
        "# writing to file\n",
        "file1 = open(document + \".txt\", 'r')\n",
        "Lines = file1.readlines()"
      ],
      "metadata": {
        "id": "l8XH3n3rUyLC"
      },
      "execution_count": null,
      "outputs": []
    },
    {
      "cell_type": "code",
      "source": [
        "# Crea listas de cada página\n",
        "def extractPages(myList, pages):\n",
        "  for line in Lines:\n",
        "    if line.find(\"de Alicante CONTRATOS FORMALIZADOS\") != -1:\n",
        "      pages +=1\n",
        "      if pages !=0:\n",
        "        #writeTxt(myList, pages)\n",
        "        extractDataFormalizados(myList, pages)\n",
        "        myList = []\n",
        "    if line != '\\n':\n",
        "      myList.append(line)\n",
        "  extractDataFormalizados(myList, pages+1)"
      ],
      "metadata": {
        "id": "k-zHjcNgUyH5"
      },
      "execution_count": 3,
      "outputs": []
    },
    {
      "cell_type": "code",
      "source": [
        "# Extraemos la primera página para poder controlar el formato\n",
        "def extractPage(myList1, pages1, page1):\n",
        "  for line in Lines:\n",
        "    if line.find(\"de Alicante CONTRATOS FORMALIZADOS\") != -1:\n",
        "      pages1 +=1\n",
        "      if pages1 == page1:\n",
        "        writeTxt(myList1,page1)\n",
        "        break;\n",
        "      else:\n",
        "        myList1 = []\n",
        "    if line != '\\n':\n",
        "      myList1.append(line)"
      ],
      "metadata": {
        "id": "q5L9CTVyGsXr"
      },
      "execution_count": 4,
      "outputs": []
    },
    {
      "cell_type": "code",
      "source": [
        "# Crea un documento txt de la primera página\n",
        "\n",
        "def writeTxt(data_List, page):\n",
        "  data_Str = ' '.join(data_List)\n",
        "  with open(document + \"_\"+ str(page) + \".txt\", 'w') as f:\n",
        "    f.write(data_Str)"
      ],
      "metadata": {
        "id": "uAiQ4h1HEY5k"
      },
      "execution_count": 5,
      "outputs": []
    },
    {
      "cell_type": "code",
      "source": [
        "# Extrae los datos de una página de los contratos formalizados guardada en una lista de Strings\n",
        "\n",
        "\n",
        "\n",
        "columnas = [\"Num. Exp\", \"Objeto Contrato\" , \"Tipo Tramitación\" , \"Tipo de Contrato\" , \"Procedimiento de Contratación\" , \"Importe Total Presup. Licit.\" , \"NIF/CIF Adjudicatario/Contratista\" , \"Razón Social Adjudicatario/Contratista\" , \"Importe Adjudicación Sin Impuestos\" , \"Importe total Adjudicación\" , \"Plazo Ejecución\" , \"Fecha Formalización Contrato\"]\n",
        "formalizados = pd.DataFrame(columns = columnas)\n",
        "\n",
        "print(formalizados)\n",
        "\n",
        "def extractDataFormalizados(pagina, pages):\n",
        "  numExpediente = objContrato = tipoTramitacion = tipoContrato = procContratacion = plazoEjecucion = presupLicitacion = \" \"\n",
        "  idContratista = razonSocial = importeAdjudicacionSin = importeTotalAdjudicacion = fechaFormalizacion = \" \"\n",
        "  formalizacion = False\n",
        "\n",
        "  #print(\"Aqui se extraerían los datos de la página \" + str(pages))\n",
        "  for count, value in enumerate(pagina):\n",
        "    if \"Nº Expediente:\" in value:\n",
        "      numExpediente = value[(value.find(\"Nº Expediente:\")) + 15:]\n",
        "      #print(numExpediente)\n",
        "    if \"Página:\" in value:\n",
        "      objContrato = pagina[count+1]\n",
        "      if \"Objeto del contrato:\" not in pagina[count+2]:\n",
        "        linea2 = pagina[count+2]\n",
        "        objContrato += linea2\n",
        "        objContrato = objContrato.replace('\\n', \" \")\n",
        "      #print(str(pages)+ \"-\" + objContrato)\n",
        "    if \"Tramitación:\" in value:\n",
        "      tipoTramitacion = value[(value.find(\"Tramitación:\")) + 13:]\n",
        "      tipoContrato = value[:(value.find(\"Tramitación:\"))-1]\n",
        "      presupLicitacion = (pagina[count+1]).replace('\\n', \" \")\n",
        "      if presupLicitacion[0].isdigit() == False:\n",
        "          presupLicitacion =\"\"\n",
        "      #print(str(pages) + \")\" + presupLicitacion)\n",
        "      #print(tipoTramitacion)\n",
        "      #print(tipoContrato)\n",
        "    if \"Meses:\" in value:\n",
        "      procContratacion = (pagina[count-1]).replace('\\n', \" \")\n",
        "      razonSocial = (pagina[count-2]).replace('\\n', \" \")\n",
        "      plazoEjecucion =  value[(value.find(\"Meses:\")) + 7: (value.find(\"Plazo\"))]\n",
        "      #print(procContratacion)\n",
        "      #print(plazoEjecucion)\n",
        "      #print(str(pages) + \")\" + razonSocial)\n",
        "    if \"C.I.F. / N.I.F. :\" in value:\n",
        "      idContratista = value[(value.find(\"C.I.F.\")) + 17 : (value.find(\"Nacionalidad\"))]\n",
        "      #print(str(pages) + \")\" + idContratista)\n",
        "    if \"Importe adjudicación sin I.V.A.:\" in value:\n",
        "      importeAdjudicacionSin = value[(value.find(\"sin I.V.A.:\")) + 12 : (value.find(\"Importe adjudicación con I.V.A.:\"))]\n",
        "      importeTotalAdjudicacion = value[(value.find(\"con I.V.A.:\")) + 12 :]\n",
        "      #print(str(pages) + \")\" + importeAdjudicacionSin)\n",
        "      #print(str(pages) + \")\" + importeTotalAdjudicacion)\n",
        "    if \"Fecha formalización:\" in value and formalizacion == False:\n",
        "      fechaFormalizacion = value[(value.find(\"Fecha formalización:\")) + 21 :]\n",
        "      formalizacion = True\n",
        "      #print(str(pages) + \")\" + fechaFormalizacion)\n",
        "  fila = [numExpediente, objContrato, tipoTramitacion, tipoContrato, procContratacion, presupLicitacion, idContratista, razonSocial, importeAdjudicacionSin, importeTotalAdjudicacion, plazoEjecucion, fechaFormalizacion]\n",
        "  formalizados.append(fila)\n",
        "  print(formalizados)\n",
        "\n",
        "\n"
      ],
      "metadata": {
        "id": "AnOZihOEUyFA",
        "colab": {
          "base_uri": "https://localhost:8080/"
        },
        "outputId": "608166a7-7fb1-4acf-9a9a-45d71ee7c795"
      },
      "execution_count": 102,
      "outputs": [
        {
          "output_type": "stream",
          "name": "stdout",
          "text": [
            "Empty DataFrame\n",
            "Columns: [Num. Exp, Objeto Contrato, Tipo Tramitación, Tipo de Contrato, Procedimiento de Contratación, Importe Total Presup. Licit., NIF/CIF Adjudicatario/Contratista, Razón Social Adjudicatario/Contratista, Importe Adjudicación Sin Impuestos, Importe total Adjudicación, Plazo Ejecución, Fecha Formalización Contrato]\n",
            "Index: []\n"
          ]
        }
      ]
    },
    {
      "cell_type": "code",
      "source": [
        "myList = []\n",
        "pages = -1\n",
        "\n",
        "# Ejecutar todo\n",
        "extractPages(myList, pages)"
      ],
      "metadata": {
        "id": "hoikqXC0PxfC"
      },
      "execution_count": null,
      "outputs": []
    },
    {
      "cell_type": "code",
      "source": [
        "# Extrae los datos de una página de los contratos modificados guardada en una lista de Strings\n",
        "\n",
        "\"\"\"\n",
        "Num. Expediente\n",
        "Objeto del Contrato\n",
        "Tipo de Contrato\n",
        "Fecha Aprobación\n",
        "Fecha Inicio\n",
        "Importe\n",
        "Causa/Justificación\n",
        "\"\"\"\n",
        "\n",
        "def extractDataModificados(myList, pages):\n",
        "  print(\"Aqui se extraerían los datos de la página \" + str(pages))\n",
        "  cont = 0\n",
        "  for line in myList:\n",
        "      print(\"Line{}: {}\".format(cont, line.strip()))\n",
        "      cont += 1"
      ],
      "metadata": {
        "id": "7Bds66jKUx_7"
      },
      "execution_count": 8,
      "outputs": []
    },
    {
      "cell_type": "code",
      "source": [
        "# Extrae los datos de una página de los contratos prorrogados guardada en una lista de Strings\n",
        "\n",
        "\"\"\"\n",
        "Num. Expediente\n",
        "Objeto del Contrato\n",
        "Tipo de Contrato\n",
        "Fecha Aprobación\n",
        "Fecha Fin Prórroga\n",
        "Importe\n",
        "Contratista\n",
        "\"\"\"\n",
        "\n",
        "def extractDataProrrogados(myList, pages):\n",
        "  print(\"Aqui se extraerían los datos de la página \" + str(pages))\n",
        "  cont = 0\n",
        "  for line in myList:\n",
        "      print(\"Line{}: {}\".format(cont, line.strip()))\n",
        "      cont += 1"
      ],
      "metadata": {
        "id": "SjpEG7QXUx9N"
      },
      "execution_count": 9,
      "outputs": []
    },
    {
      "cell_type": "code",
      "source": [
        "# Extrae los datos de una página de los contratos renunciados guardada en una lista de Strings\n",
        "\n",
        "\"\"\"\n",
        "Num. Expediente\n",
        "Objeto Contrato\n",
        "Descripción Lotes Contrato\n",
        "Tipo Contrato\n",
        "Tipo Tramitación\n",
        "Procedimiento de Contratación\n",
        "Presupuesto de Licitación (IVA incluido)\n",
        "Plazo Ejecución\n",
        "Fecha Desistimiento\n",
        "Fecha Renuncia\n",
        "Fecha Declaración Desierto\n",
        "\"\"\"\n",
        "\n",
        "def extractDataRenunciados(myList, pages):\n",
        "  print(\"Aqui se extraerían los datos de la página \" + str(pages))\n",
        "  cont = 0\n",
        "  for line in myList:\n",
        "      print(\"Line{}: {}\".format(cont, line.strip()))\n",
        "      cont += 1"
      ],
      "metadata": {
        "id": "p3T2rLRvUx50"
      },
      "execution_count": 10,
      "outputs": []
    },
    {
      "cell_type": "markdown",
      "source": [
        "Ya podemos ejecutar las siguientes celdas:"
      ],
      "metadata": {
        "id": "_l_UjTX_N_ub"
      }
    },
    {
      "cell_type": "code",
      "source": [
        "# Extraemos la página que queramos para poder entender el formato\n",
        "myList1 = []\n",
        "pages1 = -1\n",
        "page1 = 66\n",
        "extractPage(myList1, pages1, page1)"
      ],
      "metadata": {
        "id": "Mu_DC7gMUxnX"
      },
      "execution_count": 62,
      "outputs": []
    },
    {
      "cell_type": "code",
      "source": [
        "# Ejecutar todo\n",
        "extractPages(myList, pages)"
      ],
      "metadata": {
        "id": "N5SuiUFFUxX6"
      },
      "execution_count": null,
      "outputs": []
    }
  ]
}