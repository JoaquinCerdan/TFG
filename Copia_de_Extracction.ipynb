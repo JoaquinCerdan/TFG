{
  "nbformat": 4,
  "nbformat_minor": 0,
  "metadata": {
    "colab": {
      "provenance": [],
      "authorship_tag": "ABX9TyPqjObnnKGXwYzycVipW1+t",
      "include_colab_link": true
    },
    "kernelspec": {
      "name": "python3",
      "display_name": "Python 3"
    },
    "language_info": {
      "name": "python"
    }
  },
  "cells": [
    {
      "cell_type": "markdown",
      "metadata": {
        "id": "view-in-github",
        "colab_type": "text"
      },
      "source": [
        "<a href=\"https://colab.research.google.com/github/JoaquinCerdan/TFG/blob/development/Copia_de_Extracction.ipynb\" target=\"_parent\"><img src=\"https://colab.research.google.com/assets/colab-badge.svg\" alt=\"Open In Colab\"/></a>"
      ]
    },
    {
      "cell_type": "code",
      "execution_count": 28,
      "metadata": {
        "id": "00iFvjlfUfT4",
        "colab": {
          "base_uri": "https://localhost:8080/"
        },
        "outputId": "9041c85d-6576-4eec-90af-657a4301ccc4"
      },
      "outputs": [
        {
          "output_type": "stream",
          "name": "stdout",
          "text": [
            "Looking in indexes: https://pypi.org/simple, https://us-python.pkg.dev/colab-wheels/public/simple/\n",
            "Requirement already satisfied: tika in /usr/local/lib/python3.10/dist-packages (2.6.0)\n",
            "Requirement already satisfied: setuptools in /usr/local/lib/python3.10/dist-packages (from tika) (67.7.2)\n",
            "Requirement already satisfied: requests in /usr/local/lib/python3.10/dist-packages (from tika) (2.27.1)\n",
            "Requirement already satisfied: urllib3<1.27,>=1.21.1 in /usr/local/lib/python3.10/dist-packages (from requests->tika) (1.26.15)\n",
            "Requirement already satisfied: certifi>=2017.4.17 in /usr/local/lib/python3.10/dist-packages (from requests->tika) (2022.12.7)\n",
            "Requirement already satisfied: charset-normalizer~=2.0.0 in /usr/local/lib/python3.10/dist-packages (from requests->tika) (2.0.12)\n",
            "Requirement already satisfied: idna<4,>=2.5 in /usr/local/lib/python3.10/dist-packages (from requests->tika) (3.4)\n"
          ]
        }
      ],
      "source": [
        "import pandas as pd\n",
        "!pip install tika\n",
        "from tika import parser\n"
      ]
    },
    {
      "cell_type": "code",
      "source": [
        "document = \"/content/contratos-formalizados-2015\";\n",
        "\n",
        "\n",
        "\n",
        "# opening pdf file\n",
        "parsed_pdf = parser.from_file(document + \".pdf\")\n",
        "\n",
        "# saving content of pdf\n",
        "# you can also bring text only, by parsed_pdf['text']\n",
        "# parsed_pdf['content'] returns string\n",
        "data = parsed_pdf['content']\n",
        "\n",
        "with open(document + \".txt\", 'w') as f:\n",
        "    f.write(data)\n",
        "\n",
        "# writing to file\n",
        "file1 = open(document + \".txt\", 'r')\n",
        "Lines = file1.readlines()"
      ],
      "metadata": {
        "id": "l8XH3n3rUyLC"
      },
      "execution_count": 29,
      "outputs": []
    },
    {
      "cell_type": "code",
      "source": [
        "myList = []\n",
        "pages = -1\n",
        "\n",
        "# Crea listas de cada página\n",
        "def extractPages(myList, pages):\n",
        "  for line in Lines:\n",
        "    if line.find(\"de Alicante CONTRATOS FORMALIZADOS\") != -1:\n",
        "      pages +=1\n",
        "      if pages !=0:\n",
        "        writeTxt(myList, pages)\n",
        "        extractDataFormalizados(myList, pages)\n",
        "        myList = []\n",
        "    if line != '\\n':\n",
        "      myList1.append(line)\n",
        "  extractDataFormalizados(myList, pages+1)"
      ],
      "metadata": {
        "id": "k-zHjcNgUyH5"
      },
      "execution_count": 75,
      "outputs": []
    },
    {
      "cell_type": "code",
      "source": [
        "# Extraemos la primera página para poder controlar el formato\n",
        "def extractPage(myList1, pages1, page1):\n",
        "  for line in Lines:\n",
        "    if line.find(\"de Alicante CONTRATOS FORMALIZADOS\") != -1:\n",
        "      pages1 +=1\n",
        "      if pages1 == page1:\n",
        "        writeTxt(myList1,page1)\n",
        "        break;\n",
        "      else:\n",
        "        myList1 = []\n",
        "    if line != '\\n':\n",
        "      myList1.append(line)"
      ],
      "metadata": {
        "id": "q5L9CTVyGsXr"
      },
      "execution_count": 85,
      "outputs": []
    },
    {
      "cell_type": "code",
      "source": [
        "# Crea un documento txt de la primera página\n",
        "\n",
        "def writeTxt(data_List, page):\n",
        "  data_Str = ' '.join(data_List)\n",
        "  print(str(page))\n",
        "  with open(document + \"_\"+ str(page) + \".txt\", 'w') as f:\n",
        "    f.write(data_Str)"
      ],
      "metadata": {
        "id": "uAiQ4h1HEY5k"
      },
      "execution_count": 69,
      "outputs": []
    },
    {
      "cell_type": "code",
      "source": [
        "# Extrae los datos de una página de los contratos formalizados guardada en una lista de Strings\n",
        "\n",
        "\"\"\"\n",
        "Num. Expediente\n",
        "Objeto Contrato\n",
        "Descripción Lotes Contrato\n",
        "Tipo Tramitación\n",
        "Procedimiento de Contratación\n",
        "Presupuesto de Licitación (IVA incluido)\n",
        "\"Importe Adjudicación(IVA incluido)\"\n",
        "Fecha Formalización Contrato\n",
        "Plazo Ejecución\tNIF/CIF Adjudicatario/Contratista\n",
        "Razón Social Adjudicatario/Contratista\n",
        "\"\"\"\n",
        "\n",
        "def extractDataFormalizados(myList, pages):\n",
        "  print(\"Aqui se extraerían los datos de la página \" + str(pages))\n",
        "  cont = 0\n",
        "  for line in myList:\n",
        "      #print(\"Line{}: {}\".format(cont, line.strip()))\n",
        "      cont += 1"
      ],
      "metadata": {
        "id": "AnOZihOEUyFA"
      },
      "execution_count": 33,
      "outputs": []
    },
    {
      "cell_type": "code",
      "source": [
        "# Extrae los datos de una página de los contratos modificados guardada en una lista de Strings\n",
        "\n",
        "\"\"\"\n",
        "Num. Expediente\n",
        "Objeto del Contrato\n",
        "Tipo de Contrato\n",
        "Fecha Aprobación\n",
        "Fecha Inicio\n",
        "Importe\n",
        "Causa/Justificación\n",
        "\"\"\"\n",
        "\n",
        "def extractDataModificados(myList, pages):\n",
        "  print(\"Aqui se extraerían los datos de la página \" + str(pages))\n",
        "  cont = 0\n",
        "  for line in myList:\n",
        "      print(\"Line{}: {}\".format(cont, line.strip()))\n",
        "      cont += 1"
      ],
      "metadata": {
        "id": "7Bds66jKUx_7"
      },
      "execution_count": 34,
      "outputs": []
    },
    {
      "cell_type": "code",
      "source": [
        "# Extrae los datos de una página de los contratos prorrogados guardada en una lista de Strings\n",
        "\n",
        "\"\"\"\n",
        "Num. Expediente\n",
        "Objeto del Contrato\n",
        "Tipo de Contrato\n",
        "Fecha Aprobación\n",
        "Fecha Fin Prórroga\n",
        "Importe\n",
        "Contratista\n",
        "\"\"\"\n",
        "\n",
        "def extractDataProrrogados(myList, pages):\n",
        "  print(\"Aqui se extraerían los datos de la página \" + str(pages))\n",
        "  cont = 0\n",
        "  for line in myList:\n",
        "      print(\"Line{}: {}\".format(cont, line.strip()))\n",
        "      cont += 1"
      ],
      "metadata": {
        "id": "SjpEG7QXUx9N"
      },
      "execution_count": 35,
      "outputs": []
    },
    {
      "cell_type": "code",
      "source": [
        "# Extrae los datos de una página de los contratos renunciados guardada en una lista de Strings\n",
        "\n",
        "\"\"\"\n",
        "Num. Expediente\n",
        "Objeto Contrato\n",
        "Descripción Lotes Contrato\n",
        "Tipo Contrato\n",
        "Tipo Tramitación\n",
        "Procedimiento de Contratación\n",
        "Presupuesto de Licitación (IVA incluido)\n",
        "Plazo Ejecución\n",
        "Fecha Desistimiento\n",
        "Fecha Renuncia\n",
        "Fecha Declaración Desierto\n",
        "\"\"\"\n",
        "\n",
        "def extractDataRenunciados(myList, pages):\n",
        "  print(\"Aqui se extraerían los datos de la página \" + str(pages))\n",
        "  cont = 0\n",
        "  for line in myList:\n",
        "      print(\"Line{}: {}\".format(cont, line.strip()))\n",
        "      cont += 1"
      ],
      "metadata": {
        "id": "p3T2rLRvUx50"
      },
      "execution_count": 36,
      "outputs": []
    },
    {
      "cell_type": "markdown",
      "source": [
        "Ya podemos ejecutar las siguientes celdas:"
      ],
      "metadata": {
        "id": "_l_UjTX_N_ub"
      }
    },
    {
      "cell_type": "code",
      "source": [
        "# Extraemos la página que queramos para poder entender el formato\n",
        "myList1 = []\n",
        "pages1 = -1\n",
        "page1 = 2\n",
        "extractPage(myList1, pages1, page1)"
      ],
      "metadata": {
        "id": "Mu_DC7gMUxnX",
        "colab": {
          "base_uri": "https://localhost:8080/"
        },
        "outputId": "6ffcc8af-b2eb-4068-d292-e099a7772653"
      },
      "execution_count": 86,
      "outputs": [
        {
          "output_type": "stream",
          "name": "stdout",
          "text": [
            "2\n"
          ]
        }
      ]
    },
    {
      "cell_type": "code",
      "source": [
        "# Ejecutar todo\n",
        "extractPages(myList, pages)"
      ],
      "metadata": {
        "id": "N5SuiUFFUxX6"
      },
      "execution_count": null,
      "outputs": []
    }
  ]
}